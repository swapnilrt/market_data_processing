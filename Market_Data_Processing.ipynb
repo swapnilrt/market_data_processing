{
 "cells": [
  {
   "cell_type": "code",
   "execution_count": 1,
   "metadata": {},
   "outputs": [],
   "source": [
    "import pandas as pd\n",
    "import numpy as np\n",
    "import warnings\n",
    "warnings.filterwarnings('ignore')"
   ]
  },
  {
   "cell_type": "markdown",
   "metadata": {},
   "source": [
    "# Reading the inputs"
   ]
  },
  {
   "cell_type": "code",
   "execution_count": 2,
   "metadata": {},
   "outputs": [],
   "source": [
    "executions=pd.read_parquet(\"exectuions.parquet\")"
   ]
  },
  {
   "cell_type": "code",
   "execution_count": 3,
   "metadata": {},
   "outputs": [],
   "source": [
    "market_data=pd.read_parquet(\"marketdata.parquet\")"
   ]
  },
  {
   "cell_type": "code",
   "execution_count": 4,
   "metadata": {},
   "outputs": [],
   "source": [
    "ref_data=pd.read_parquet(\"refdata.parquet\")"
   ]
  },
  {
   "cell_type": "markdown",
   "metadata": {},
   "source": [
    "# Count the number of executions within the executions.parquet file, determine the unique number of [‘Venue’]s and the date of executions."
   ]
  },
  {
   "cell_type": "code",
   "execution_count": 5,
   "metadata": {},
   "outputs": [
    {
     "name": "stdout",
     "output_type": "stream",
     "text": [
      "total number of excutions :- 4203\n"
     ]
    }
   ],
   "source": [
    "print(f\"total number of excutions :- {executions.shape[0]}\")"
   ]
  },
  {
   "cell_type": "code",
   "execution_count": 6,
   "metadata": {},
   "outputs": [
    {
     "name": "stdout",
     "output_type": "stream",
     "text": [
      "Unique number of venues :- 6\n"
     ]
    }
   ],
   "source": [
    "print(f\"Unique number of venues :- {executions[\"Venue\"].nunique()}\")"
   ]
  },
  {
   "cell_type": "code",
   "execution_count": 7,
   "metadata": {},
   "outputs": [
    {
     "name": "stdout",
     "output_type": "stream",
     "text": [
      "Unique number of date of executions :- 1\n"
     ]
    }
   ],
   "source": [
    "print(f\"Unique number of date of executions :- {pd.to_datetime(executions[\"TradeTime\"]).dt.date.nunique()}\")"
   ]
  },
  {
   "cell_type": "markdown",
   "metadata": {},
   "source": [
    "# 2. Data Cleaning:\n",
    "# a. Filter executions.paraquet for only CONTINUOUS_TRADING trades.\n",
    "# b. Log output the # of executions."
   ]
  },
  {
   "cell_type": "code",
   "execution_count": 8,
   "metadata": {},
   "outputs": [],
   "source": [
    "countinuous_executions=executions[executions['Phase']=='CONTINUOUS_TRADING']"
   ]
  },
  {
   "cell_type": "code",
   "execution_count": 9,
   "metadata": {},
   "outputs": [
    {
     "name": "stdout",
     "output_type": "stream",
     "text": [
      "total number of excutions with phase countinuous trading :- 4103\n"
     ]
    }
   ],
   "source": [
    "print(f\"total number of excutions with phase countinuous trading :- {countinuous_executions.shape[0]}\")"
   ]
  },
  {
   "cell_type": "code",
   "execution_count": 10,
   "metadata": {},
   "outputs": [
    {
     "data": {
      "text/html": [
       "<div>\n",
       "<style scoped>\n",
       "    .dataframe tbody tr th:only-of-type {\n",
       "        vertical-align: middle;\n",
       "    }\n",
       "\n",
       "    .dataframe tbody tr th {\n",
       "        vertical-align: top;\n",
       "    }\n",
       "\n",
       "    .dataframe thead th {\n",
       "        text-align: right;\n",
       "    }\n",
       "</style>\n",
       "<table border=\"1\" class=\"dataframe\">\n",
       "  <thead>\n",
       "    <tr style=\"text-align: right;\">\n",
       "      <th></th>\n",
       "      <th>ISIN</th>\n",
       "      <th>Currency</th>\n",
       "      <th>Venue</th>\n",
       "      <th>TradeTime</th>\n",
       "      <th>Price</th>\n",
       "      <th>Trade_id</th>\n",
       "      <th>Phase</th>\n",
       "      <th>Quantity</th>\n",
       "    </tr>\n",
       "  </thead>\n",
       "  <tbody>\n",
       "    <tr>\n",
       "      <th>100</th>\n",
       "      <td>BE0003851681</td>\n",
       "      <td>EUR</td>\n",
       "      <td>XBRU</td>\n",
       "      <td>2022-09-02 07:39:39.072</td>\n",
       "      <td>91.80</td>\n",
       "      <td>100</td>\n",
       "      <td>CONTINUOUS_TRADING</td>\n",
       "      <td>11</td>\n",
       "    </tr>\n",
       "    <tr>\n",
       "      <th>101</th>\n",
       "      <td>BE0003851681</td>\n",
       "      <td>EUR</td>\n",
       "      <td>XBRU</td>\n",
       "      <td>2022-09-02 07:43:05.795</td>\n",
       "      <td>91.90</td>\n",
       "      <td>101</td>\n",
       "      <td>CONTINUOUS_TRADING</td>\n",
       "      <td>16</td>\n",
       "    </tr>\n",
       "    <tr>\n",
       "      <th>102</th>\n",
       "      <td>BE0003851681</td>\n",
       "      <td>EUR</td>\n",
       "      <td>XBRU</td>\n",
       "      <td>2022-09-02 07:47:55.688</td>\n",
       "      <td>91.85</td>\n",
       "      <td>102</td>\n",
       "      <td>CONTINUOUS_TRADING</td>\n",
       "      <td>22</td>\n",
       "    </tr>\n",
       "    <tr>\n",
       "      <th>103</th>\n",
       "      <td>BE0003851681</td>\n",
       "      <td>EUR</td>\n",
       "      <td>XBRU</td>\n",
       "      <td>2022-09-02 07:50:54.472</td>\n",
       "      <td>91.95</td>\n",
       "      <td>103</td>\n",
       "      <td>CONTINUOUS_TRADING</td>\n",
       "      <td>17</td>\n",
       "    </tr>\n",
       "    <tr>\n",
       "      <th>104</th>\n",
       "      <td>BE0003851681</td>\n",
       "      <td>EUR</td>\n",
       "      <td>XBRU</td>\n",
       "      <td>2022-09-02 07:54:06.487</td>\n",
       "      <td>92.05</td>\n",
       "      <td>104</td>\n",
       "      <td>CONTINUOUS_TRADING</td>\n",
       "      <td>23</td>\n",
       "    </tr>\n",
       "  </tbody>\n",
       "</table>\n",
       "</div>"
      ],
      "text/plain": [
       "             ISIN Currency Venue                TradeTime  Price  Trade_id  \\\n",
       "100  BE0003851681      EUR  XBRU  2022-09-02 07:39:39.072  91.80       100   \n",
       "101  BE0003851681      EUR  XBRU  2022-09-02 07:43:05.795  91.90       101   \n",
       "102  BE0003851681      EUR  XBRU  2022-09-02 07:47:55.688  91.85       102   \n",
       "103  BE0003851681      EUR  XBRU  2022-09-02 07:50:54.472  91.95       103   \n",
       "104  BE0003851681      EUR  XBRU  2022-09-02 07:54:06.487  92.05       104   \n",
       "\n",
       "                  Phase  Quantity  \n",
       "100  CONTINUOUS_TRADING        11  \n",
       "101  CONTINUOUS_TRADING        16  \n",
       "102  CONTINUOUS_TRADING        22  \n",
       "103  CONTINUOUS_TRADING        17  \n",
       "104  CONTINUOUS_TRADING        23  "
      ]
     },
     "execution_count": 10,
     "metadata": {},
     "output_type": "execute_result"
    }
   ],
   "source": [
    "countinuous_executions.head()"
   ]
  },
  {
   "cell_type": "markdown",
   "metadata": {},
   "source": [
    "# 3. Data Transformation:\n",
    "# a. Add column [‘side’], if quantity is negative, side = 2, if quantity is positive side = 1.\n",
    "# b. Complement the data with refdata.parquet\n",
    "# i. Add the primary ticker [‘primary_ticker’]\n",
    "# ii. Add the primary mic [‘primary_mic’]"
   ]
  },
  {
   "cell_type": "code",
   "execution_count": 11,
   "metadata": {},
   "outputs": [],
   "source": [
    "countinuous_executions['side']=np.where(countinuous_executions['Quantity']>0,1,2)"
   ]
  },
  {
   "cell_type": "code",
   "execution_count": 12,
   "metadata": {},
   "outputs": [
    {
     "data": {
      "text/html": [
       "<div>\n",
       "<style scoped>\n",
       "    .dataframe tbody tr th:only-of-type {\n",
       "        vertical-align: middle;\n",
       "    }\n",
       "\n",
       "    .dataframe tbody tr th {\n",
       "        vertical-align: top;\n",
       "    }\n",
       "\n",
       "    .dataframe thead th {\n",
       "        text-align: right;\n",
       "    }\n",
       "</style>\n",
       "<table border=\"1\" class=\"dataframe\">\n",
       "  <thead>\n",
       "    <tr style=\"text-align: right;\">\n",
       "      <th></th>\n",
       "      <th>ISIN</th>\n",
       "      <th>Currency</th>\n",
       "      <th>Venue</th>\n",
       "      <th>TradeTime</th>\n",
       "      <th>Price</th>\n",
       "      <th>Trade_id</th>\n",
       "      <th>Phase</th>\n",
       "      <th>Quantity</th>\n",
       "      <th>side</th>\n",
       "    </tr>\n",
       "  </thead>\n",
       "  <tbody>\n",
       "    <tr>\n",
       "      <th>2978</th>\n",
       "      <td>DE000BAY0017</td>\n",
       "      <td>EUR</td>\n",
       "      <td>XETA</td>\n",
       "      <td>2022-09-02 13:10:55.119</td>\n",
       "      <td>52.08</td>\n",
       "      <td>2978</td>\n",
       "      <td>CONTINUOUS_TRADING</td>\n",
       "      <td>42</td>\n",
       "      <td>1</td>\n",
       "    </tr>\n",
       "    <tr>\n",
       "      <th>966</th>\n",
       "      <td>DE000LEG1110</td>\n",
       "      <td>EUR</td>\n",
       "      <td>XETA</td>\n",
       "      <td>2022-09-02 15:07:58.038</td>\n",
       "      <td>75.02</td>\n",
       "      <td>966</td>\n",
       "      <td>CONTINUOUS_TRADING</td>\n",
       "      <td>24</td>\n",
       "      <td>1</td>\n",
       "    </tr>\n",
       "    <tr>\n",
       "      <th>2180</th>\n",
       "      <td>DE0006062144</td>\n",
       "      <td>EUR</td>\n",
       "      <td>XETA</td>\n",
       "      <td>2022-09-02 12:12:16.183</td>\n",
       "      <td>30.80</td>\n",
       "      <td>2180</td>\n",
       "      <td>CONTINUOUS_TRADING</td>\n",
       "      <td>62</td>\n",
       "      <td>1</td>\n",
       "    </tr>\n",
       "    <tr>\n",
       "      <th>308</th>\n",
       "      <td>CH0012005267</td>\n",
       "      <td>CHF</td>\n",
       "      <td>XSWX</td>\n",
       "      <td>2022-09-02 07:14:34.143</td>\n",
       "      <td>78.56</td>\n",
       "      <td>308</td>\n",
       "      <td>CONTINUOUS_TRADING</td>\n",
       "      <td>-12</td>\n",
       "      <td>2</td>\n",
       "    </tr>\n",
       "    <tr>\n",
       "      <th>2508</th>\n",
       "      <td>DE000BASF111</td>\n",
       "      <td>EUR</td>\n",
       "      <td>XETA</td>\n",
       "      <td>2022-09-02 12:05:44.204</td>\n",
       "      <td>42.29</td>\n",
       "      <td>2508</td>\n",
       "      <td>CONTINUOUS_TRADING</td>\n",
       "      <td>61</td>\n",
       "      <td>1</td>\n",
       "    </tr>\n",
       "    <tr>\n",
       "      <th>434</th>\n",
       "      <td>CH0363463438</td>\n",
       "      <td>CHF</td>\n",
       "      <td>XSWX</td>\n",
       "      <td>2022-09-02 08:51:26.822</td>\n",
       "      <td>14.36</td>\n",
       "      <td>434</td>\n",
       "      <td>CONTINUOUS_TRADING</td>\n",
       "      <td>-351</td>\n",
       "      <td>2</td>\n",
       "    </tr>\n",
       "    <tr>\n",
       "      <th>3543</th>\n",
       "      <td>DK0010181759</td>\n",
       "      <td>DKK</td>\n",
       "      <td>XCSE</td>\n",
       "      <td>2022-09-02 12:20:08.391</td>\n",
       "      <td>942.40</td>\n",
       "      <td>3543</td>\n",
       "      <td>CONTINUOUS_TRADING</td>\n",
       "      <td>20</td>\n",
       "      <td>1</td>\n",
       "    </tr>\n",
       "    <tr>\n",
       "      <th>783</th>\n",
       "      <td>DE000LEG1110</td>\n",
       "      <td>EUR</td>\n",
       "      <td>XETA</td>\n",
       "      <td>2022-09-02 07:30:21.988</td>\n",
       "      <td>73.76</td>\n",
       "      <td>783</td>\n",
       "      <td>CONTINUOUS_TRADING</td>\n",
       "      <td>24</td>\n",
       "      <td>1</td>\n",
       "    </tr>\n",
       "    <tr>\n",
       "      <th>3321</th>\n",
       "      <td>DK0010219153</td>\n",
       "      <td>DKK</td>\n",
       "      <td>XCSE</td>\n",
       "      <td>2022-09-02 12:20:31.072</td>\n",
       "      <td>1471.50</td>\n",
       "      <td>3321</td>\n",
       "      <td>CONTINUOUS_TRADING</td>\n",
       "      <td>9</td>\n",
       "      <td>1</td>\n",
       "    </tr>\n",
       "    <tr>\n",
       "      <th>2828</th>\n",
       "      <td>DE000BAY0017</td>\n",
       "      <td>EUR</td>\n",
       "      <td>XETA</td>\n",
       "      <td>2022-09-02 11:44:17.385</td>\n",
       "      <td>51.58</td>\n",
       "      <td>2828</td>\n",
       "      <td>CONTINUOUS_TRADING</td>\n",
       "      <td>12</td>\n",
       "      <td>1</td>\n",
       "    </tr>\n",
       "  </tbody>\n",
       "</table>\n",
       "</div>"
      ],
      "text/plain": [
       "              ISIN Currency Venue                TradeTime    Price  Trade_id  \\\n",
       "2978  DE000BAY0017      EUR  XETA  2022-09-02 13:10:55.119    52.08      2978   \n",
       "966   DE000LEG1110      EUR  XETA  2022-09-02 15:07:58.038    75.02       966   \n",
       "2180  DE0006062144      EUR  XETA  2022-09-02 12:12:16.183    30.80      2180   \n",
       "308   CH0012005267      CHF  XSWX  2022-09-02 07:14:34.143    78.56       308   \n",
       "2508  DE000BASF111      EUR  XETA  2022-09-02 12:05:44.204    42.29      2508   \n",
       "434   CH0363463438      CHF  XSWX  2022-09-02 08:51:26.822    14.36       434   \n",
       "3543  DK0010181759      DKK  XCSE  2022-09-02 12:20:08.391   942.40      3543   \n",
       "783   DE000LEG1110      EUR  XETA  2022-09-02 07:30:21.988    73.76       783   \n",
       "3321  DK0010219153      DKK  XCSE  2022-09-02 12:20:31.072  1471.50      3321   \n",
       "2828  DE000BAY0017      EUR  XETA  2022-09-02 11:44:17.385    51.58      2828   \n",
       "\n",
       "                   Phase  Quantity  side  \n",
       "2978  CONTINUOUS_TRADING        42     1  \n",
       "966   CONTINUOUS_TRADING        24     1  \n",
       "2180  CONTINUOUS_TRADING        62     1  \n",
       "308   CONTINUOUS_TRADING       -12     2  \n",
       "2508  CONTINUOUS_TRADING        61     1  \n",
       "434   CONTINUOUS_TRADING      -351     2  \n",
       "3543  CONTINUOUS_TRADING        20     1  \n",
       "783   CONTINUOUS_TRADING        24     1  \n",
       "3321  CONTINUOUS_TRADING         9     1  \n",
       "2828  CONTINUOUS_TRADING        12     1  "
      ]
     },
     "execution_count": 12,
     "metadata": {},
     "output_type": "execute_result"
    }
   ],
   "source": [
    "countinuous_executions.sample(n=10, random_state=2)"
   ]
  },
  {
   "cell_type": "code",
   "execution_count": 13,
   "metadata": {},
   "outputs": [
    {
     "name": "stdout",
     "output_type": "stream",
     "text": [
      "CPU times: user 7.67 ms, sys: 2.72 ms, total: 10.4 ms\n",
      "Wall time: 9.47 ms\n"
     ]
    }
   ],
   "source": [
    "%%time\n",
    "# Joining with reference data\n",
    "ref_updated_countinuous_executios=pd.merge(\n",
    "    countinuous_executions[['ISIN', 'Currency', 'Venue', 'TradeTime', 'Price', 'Trade_id', 'Phase',\n",
    "       'Quantity', 'side']],\n",
    "    ref_data[['ISIN','Currency','primary_ticker','primary_mic','id']], how='left',left_on=['ISIN','Currency'],right_on=['ISIN','Currency'])"
   ]
  },
  {
   "cell_type": "code",
   "execution_count": 16,
   "metadata": {},
   "outputs": [],
   "source": [
    "# casting the TradeTime column to datetime\n",
    "ref_updated_countinuous_executios['TradeTime']=pd.to_datetime(ref_updated_countinuous_executios['TradeTime'])\n"
   ]
  },
  {
   "cell_type": "markdown",
   "metadata": {},
   "source": [
    "# 4. Calculations:\n",
    "# a. Best bid price and best ask (bbo) – bbo data in marketdata.parquet\n",
    "# i. Find bbo price at execution, 1 second before execution and 1 second after execution\n",
    "# from the marketdata.parquet file and add this data into the final output file –\n",
    "# respective column table names [‘best_bid’,’best_ask’,\n",
    "# ‘best_bid_min_1s’,’best_ask_min_1s’, ‘best_bid_1s’,’best_ask_1s’]\n",
    "\n",
    "# b. Mid-Price – bbo data in marketdata.parquet\n",
    "# i. Find the Mid-Price at execution, 1s before the execution and 1s after the execution\n",
    "# – respective column table names [‘mid_price’, ‘mid_price_min_1s’ ‘mid_price_1s’]\n",
    "\n",
    "# c. Calculate Slippage [‘slippage’] at execution price\n",
    "# i. For SELL: (execution_price – best_bid) / (best_ask – best_bid)\n",
    "# ii. For BUY : (best_ask – execution_price) / (best_ask – best_bid)"
   ]
  },
  {
   "cell_type": "code",
   "execution_count": 17,
   "metadata": {},
   "outputs": [
    {
     "name": "stdout",
     "output_type": "stream",
     "text": [
      "CPU times: user 47.9 ms, sys: 11.5 ms, total: 59.5 ms\n",
      "Wall time: 60.3 ms\n"
     ]
    }
   ],
   "source": [
    "%%time\n",
    "# calculating the best bid and best ask price across the market data for id \n",
    "market_data.rename(columns={'listing_id':'id'},inplace=True)\n",
    "best_bid_ask_price=market_data.groupby('id').agg({'best_bid_price':[min],'best_ask_price':[max]}).reset_index()\n",
    "best_bid_ask_price.columns=[f'{col[0]}_{col[1]}' for col in best_bid_ask_price.columns ]\n",
    "best_bid_ask_price.rename(columns={'id_':'id','best_bid_price_min':'best_bid_price','best_ask_price_max':'best_ask_price'},inplace=True)"
   ]
  },
  {
   "cell_type": "code",
   "execution_count": 18,
   "metadata": {},
   "outputs": [
    {
     "name": "stdout",
     "output_type": "stream",
     "text": [
      "CPU times: user 197 ms, sys: 51.8 ms, total: 249 ms\n",
      "Wall time: 250 ms\n"
     ]
    }
   ],
   "source": [
    "%%time\n",
    "# calculating the best bid and best ask price for executions +1 \n",
    "best_bid_ask_1=pd.merge_asof(\n",
    "    ref_updated_countinuous_executios[['TradeTime','id','primary_mic']].sort_values('TradeTime'),\n",
    "    market_data[['event_timestamp','best_bid_price','best_ask_price','id']].sort_values('event_timestamp'), \n",
    "    by='id',left_on='TradeTime',right_on='event_timestamp',direction='forward',tolerance=pd.Timedelta(seconds=1))"
   ]
  },
  {
   "cell_type": "code",
   "execution_count": 19,
   "metadata": {},
   "outputs": [],
   "source": [
    "# renaming columns\n",
    "best_bid_ask_1.rename(columns={'best_bid_price':'best_bid_1s','best_ask_price':'best_ask_1s','event_timestamp':'event_timestamp_1s'},inplace=True)"
   ]
  },
  {
   "cell_type": "code",
   "execution_count": 21,
   "metadata": {},
   "outputs": [
    {
     "name": "stdout",
     "output_type": "stream",
     "text": [
      "CPU times: user 243 ms, sys: 27.6 ms, total: 271 ms\n",
      "Wall time: 271 ms\n"
     ]
    }
   ],
   "source": [
    "%%time\n",
    "# calculating the best bid and best ask price for executions -1 \n",
    "best_bid_ask_min_1=pd.merge_asof(\n",
    "    ref_updated_countinuous_executios[['TradeTime','id','primary_mic']].sort_values('TradeTime'),\n",
    "    market_data[['event_timestamp','best_bid_price','best_ask_price','primary_mic','id']].sort_values('event_timestamp'), \n",
    "    by='id',left_on='TradeTime',right_on='event_timestamp',direction='backward',tolerance=pd.Timedelta(seconds=1))"
   ]
  },
  {
   "cell_type": "code",
   "execution_count": 23,
   "metadata": {},
   "outputs": [],
   "source": [
    "# renaming columns\n",
    "best_bid_ask_min_1.rename(columns={'best_bid_price':'best_bid_min_1s','best_ask_price':'best_ask_min_1s','event_timestamp':'event_timestamp_min_1s'},inplace=True)\n"
   ]
  },
  {
   "cell_type": "code",
   "execution_count": 24,
   "metadata": {},
   "outputs": [
    {
     "name": "stdout",
     "output_type": "stream",
     "text": [
      "CPU times: user 6.03 ms, sys: 8.42 ms, total: 14.5 ms\n",
      "Wall time: 12.9 ms\n"
     ]
    }
   ],
   "source": [
    "%%time\n",
    "# joining to get best bid and ask price previously calculated\n",
    "updated_executios=pd.merge(\n",
    "    ref_updated_countinuous_executios[['ISIN', 'Currency', 'Venue', 'TradeTime', 'Price', 'Trade_id', 'Phase',\n",
    "       'Quantity', 'side', 'primary_ticker', 'primary_mic', 'id']],\n",
    "    best_bid_ask_price[['id','best_bid_price','best_ask_price']], how='left',left_on='id',right_on='id')"
   ]
  },
  {
   "cell_type": "code",
   "execution_count": 25,
   "metadata": {},
   "outputs": [
    {
     "name": "stdout",
     "output_type": "stream",
     "text": [
      "CPU times: user 587 ms, sys: 155 ms, total: 743 ms\n",
      "Wall time: 743 ms\n"
     ]
    }
   ],
   "source": [
    "%%time\n",
    "# joining to get best bid and ask 1 sec before exec price previously calculated\n",
    "updated_executios_1s=pd.merge(\n",
    "    updated_executios,\n",
    "    best_bid_ask_1[['id','best_bid_1s','best_ask_1s','event_timestamp_1s']], how='left',left_on='id',right_on='id')\n",
    "updated_executios_1s=updated_executios_1s.drop_duplicates()"
   ]
  },
  {
   "cell_type": "code",
   "execution_count": 26,
   "metadata": {},
   "outputs": [
    {
     "name": "stdout",
     "output_type": "stream",
     "text": [
      "CPU times: user 4.29 s, sys: 1.13 s, total: 5.42 s\n",
      "Wall time: 5.43 s\n"
     ]
    }
   ],
   "source": [
    "%%time\n",
    "# joining to get best bid and ask - 1 sec before exec price previously calculated\n",
    "updated_executios_min_1s=pd.merge(\n",
    "    updated_executios_1s,\n",
    "    best_bid_ask_min_1[['id','best_bid_min_1s','best_ask_min_1s','event_timestamp_min_1s']], how='left',left_on='id',right_on='id')\n",
    "updated_executios_min_1s=updated_executios_min_1s.drop_duplicates()"
   ]
  },
  {
   "cell_type": "code",
   "execution_count": 27,
   "metadata": {},
   "outputs": [
    {
     "name": "stdout",
     "output_type": "stream",
     "text": [
      "CPU times: user 102 ms, sys: 99.1 ms, total: 201 ms\n",
      "Wall time: 44.5 ms\n"
     ]
    }
   ],
   "source": [
    "%%time\n",
    "# calculating the mid price ,mid price _1 and mid_price -1\n",
    "\n",
    "updated_executios_min_1s['mid_price']=(updated_executios_min_1s['best_bid_price']+updated_executios_min_1s['best_ask_price'])/2\n",
    "updated_executios_min_1s['mid_price_1s']=(updated_executios_min_1s['best_bid_1s']+updated_executios_min_1s['best_ask_1s'])/2\n",
    "updated_executios_min_1s['mid_price_min_1s']=(updated_executios_min_1s['best_bid_min_1s']+updated_executios_min_1s['best_ask_min_1s'])/2"
   ]
  },
  {
   "cell_type": "code",
   "execution_count": 28,
   "metadata": {},
   "outputs": [
    {
     "name": "stdout",
     "output_type": "stream",
     "text": [
      "CPU times: user 111 ms, sys: 103 ms, total: 213 ms\n",
      "Wall time: 53.9 ms\n"
     ]
    }
   ],
   "source": [
    "%%time\n",
    "# calculating the slippage based on side\n",
    "\n",
    "updated_executios_min_1s['slippage']=np.where(\n",
    "    updated_executios_min_1s['side']==1,\n",
    "    (updated_executios_min_1s['best_ask_price']-updated_executios_min_1s['Price']) / (updated_executios_min_1s['best_ask_price']-updated_executios_min_1s['best_bid_price'])\n",
    "    ,np.where(updated_executios_min_1s['side']==2,\n",
    "             (updated_executios_min_1s['Price']-updated_executios_min_1s['best_bid_price']) / (updated_executios_min_1s['best_ask_price']-updated_executios_min_1s['best_bid_price']),\n",
    "             np.nan))\n"
   ]
  },
  {
   "cell_type": "code",
   "execution_count": 29,
   "metadata": {},
   "outputs": [
    {
     "data": {
      "text/html": [
       "<div>\n",
       "<style scoped>\n",
       "    .dataframe tbody tr th:only-of-type {\n",
       "        vertical-align: middle;\n",
       "    }\n",
       "\n",
       "    .dataframe tbody tr th {\n",
       "        vertical-align: top;\n",
       "    }\n",
       "\n",
       "    .dataframe thead th {\n",
       "        text-align: right;\n",
       "    }\n",
       "</style>\n",
       "<table border=\"1\" class=\"dataframe\">\n",
       "  <thead>\n",
       "    <tr style=\"text-align: right;\">\n",
       "      <th></th>\n",
       "      <th>ISIN</th>\n",
       "      <th>Currency</th>\n",
       "      <th>Venue</th>\n",
       "      <th>TradeTime</th>\n",
       "      <th>Price</th>\n",
       "      <th>Trade_id</th>\n",
       "      <th>Phase</th>\n",
       "      <th>Quantity</th>\n",
       "      <th>side</th>\n",
       "      <th>primary_ticker</th>\n",
       "      <th>...</th>\n",
       "      <th>best_bid_1s</th>\n",
       "      <th>best_ask_1s</th>\n",
       "      <th>event_timestamp_1s</th>\n",
       "      <th>best_bid_min_1s</th>\n",
       "      <th>best_ask_min_1s</th>\n",
       "      <th>event_timestamp_min_1s</th>\n",
       "      <th>mid_price</th>\n",
       "      <th>mid_price_1s</th>\n",
       "      <th>mid_price_min_1s</th>\n",
       "      <th>slippage</th>\n",
       "    </tr>\n",
       "  </thead>\n",
       "  <tbody>\n",
       "    <tr>\n",
       "      <th>2259838</th>\n",
       "      <td>BE0003851681</td>\n",
       "      <td>EUR</td>\n",
       "      <td>XBRU</td>\n",
       "      <td>2022-09-02 12:51:31.488</td>\n",
       "      <td>93.20</td>\n",
       "      <td>190</td>\n",
       "      <td>CONTINUOUS_TRADING</td>\n",
       "      <td>23</td>\n",
       "      <td>1</td>\n",
       "      <td>AED</td>\n",
       "      <td>...</td>\n",
       "      <td>93.85</td>\n",
       "      <td>93.95</td>\n",
       "      <td>2022-09-02 13:35:44.275728311</td>\n",
       "      <td>93.45</td>\n",
       "      <td>93.55</td>\n",
       "      <td>2022-09-02 12:39:53.966468327</td>\n",
       "      <td>93.20</td>\n",
       "      <td>93.900</td>\n",
       "      <td>93.500</td>\n",
       "      <td>0.500000</td>\n",
       "    </tr>\n",
       "    <tr>\n",
       "      <th>2949082</th>\n",
       "      <td>BE0003851681</td>\n",
       "      <td>EUR</td>\n",
       "      <td>XBRU</td>\n",
       "      <td>2022-09-02 13:57:00.103</td>\n",
       "      <td>94.10</td>\n",
       "      <td>218</td>\n",
       "      <td>CONTINUOUS_TRADING</td>\n",
       "      <td>20</td>\n",
       "      <td>1</td>\n",
       "      <td>AED</td>\n",
       "      <td>...</td>\n",
       "      <td>92.85</td>\n",
       "      <td>93.00</td>\n",
       "      <td>2022-09-02 10:42:08.769535773</td>\n",
       "      <td>92.55</td>\n",
       "      <td>92.65</td>\n",
       "      <td>2022-09-02 10:02:57.271840963</td>\n",
       "      <td>93.20</td>\n",
       "      <td>92.925</td>\n",
       "      <td>92.600</td>\n",
       "      <td>0.250000</td>\n",
       "    </tr>\n",
       "    <tr>\n",
       "      <th>801402</th>\n",
       "      <td>BE0003851681</td>\n",
       "      <td>EUR</td>\n",
       "      <td>XBRU</td>\n",
       "      <td>2022-09-02 09:56:02.300</td>\n",
       "      <td>92.50</td>\n",
       "      <td>132</td>\n",
       "      <td>CONTINUOUS_TRADING</td>\n",
       "      <td>11</td>\n",
       "      <td>1</td>\n",
       "      <td>AED</td>\n",
       "      <td>...</td>\n",
       "      <td>92.10</td>\n",
       "      <td>92.20</td>\n",
       "      <td>2022-09-02 09:04:56.140493012</td>\n",
       "      <td>93.30</td>\n",
       "      <td>93.40</td>\n",
       "      <td>2022-09-02 13:09:53.976050735</td>\n",
       "      <td>93.20</td>\n",
       "      <td>92.150</td>\n",
       "      <td>93.350</td>\n",
       "      <td>0.694444</td>\n",
       "    </tr>\n",
       "    <tr>\n",
       "      <th>3945834</th>\n",
       "      <td>BE0003851681</td>\n",
       "      <td>EUR</td>\n",
       "      <td>XBRU</td>\n",
       "      <td>2022-09-02 15:27:55.073</td>\n",
       "      <td>94.25</td>\n",
       "      <td>258</td>\n",
       "      <td>CONTINUOUS_TRADING</td>\n",
       "      <td>1</td>\n",
       "      <td>1</td>\n",
       "      <td>AED</td>\n",
       "      <td>...</td>\n",
       "      <td>92.75</td>\n",
       "      <td>92.90</td>\n",
       "      <td>2022-09-02 10:38:55.342426582</td>\n",
       "      <td>94.15</td>\n",
       "      <td>94.25</td>\n",
       "      <td>2022-09-02 15:27:55.038490941</td>\n",
       "      <td>93.20</td>\n",
       "      <td>92.825</td>\n",
       "      <td>94.200</td>\n",
       "      <td>0.208333</td>\n",
       "    </tr>\n",
       "    <tr>\n",
       "      <th>1995692</th>\n",
       "      <td>BE0003851681</td>\n",
       "      <td>EUR</td>\n",
       "      <td>XBRU</td>\n",
       "      <td>2022-09-02 12:37:02.817</td>\n",
       "      <td>93.35</td>\n",
       "      <td>180</td>\n",
       "      <td>CONTINUOUS_TRADING</td>\n",
       "      <td>1</td>\n",
       "      <td>1</td>\n",
       "      <td>AED</td>\n",
       "      <td>...</td>\n",
       "      <td>92.15</td>\n",
       "      <td>92.25</td>\n",
       "      <td>2022-09-02 08:13:22.049845232</td>\n",
       "      <td>94.45</td>\n",
       "      <td>94.50</td>\n",
       "      <td>2022-09-02 14:43:00.671444127</td>\n",
       "      <td>93.20</td>\n",
       "      <td>92.200</td>\n",
       "      <td>94.475</td>\n",
       "      <td>0.458333</td>\n",
       "    </tr>\n",
       "    <tr>\n",
       "      <th>4666308</th>\n",
       "      <td>BE0003593044</td>\n",
       "      <td>EUR</td>\n",
       "      <td>XBRU</td>\n",
       "      <td>2022-09-02 14:06:00.560</td>\n",
       "      <td>100.60</td>\n",
       "      <td>1227</td>\n",
       "      <td>CONTINUOUS_TRADING</td>\n",
       "      <td>11</td>\n",
       "      <td>1</td>\n",
       "      <td>COFB</td>\n",
       "      <td>...</td>\n",
       "      <td>99.05</td>\n",
       "      <td>99.15</td>\n",
       "      <td>2022-09-02 07:54:09.150457159</td>\n",
       "      <td>100.70</td>\n",
       "      <td>100.80</td>\n",
       "      <td>2022-09-02 14:08:22.012049947</td>\n",
       "      <td>100.35</td>\n",
       "      <td>99.100</td>\n",
       "      <td>100.750</td>\n",
       "      <td>0.441860</td>\n",
       "    </tr>\n",
       "    <tr>\n",
       "      <th>709972</th>\n",
       "      <td>BE0003851681</td>\n",
       "      <td>EUR</td>\n",
       "      <td>XBRU</td>\n",
       "      <td>2022-09-02 09:49:54.106</td>\n",
       "      <td>92.45</td>\n",
       "      <td>128</td>\n",
       "      <td>CONTINUOUS_TRADING</td>\n",
       "      <td>46</td>\n",
       "      <td>1</td>\n",
       "      <td>AED</td>\n",
       "      <td>...</td>\n",
       "      <td>93.40</td>\n",
       "      <td>93.50</td>\n",
       "      <td>2022-09-02 12:35:48.192033959</td>\n",
       "      <td>92.20</td>\n",
       "      <td>92.30</td>\n",
       "      <td>2022-09-02 08:32:47.198346917</td>\n",
       "      <td>93.20</td>\n",
       "      <td>93.450</td>\n",
       "      <td>92.250</td>\n",
       "      <td>0.708333</td>\n",
       "    </tr>\n",
       "    <tr>\n",
       "      <th>4338410</th>\n",
       "      <td>CH0008742519</td>\n",
       "      <td>CHF</td>\n",
       "      <td>XSWX</td>\n",
       "      <td>2022-09-02 07:59:53.219</td>\n",
       "      <td>507.60</td>\n",
       "      <td>1009</td>\n",
       "      <td>CONTINUOUS_TRADING</td>\n",
       "      <td>11</td>\n",
       "      <td>1</td>\n",
       "      <td>SCMN</td>\n",
       "      <td>...</td>\n",
       "      <td>507.20</td>\n",
       "      <td>507.60</td>\n",
       "      <td>2022-09-02 07:40:21.346042000</td>\n",
       "      <td>507.00</td>\n",
       "      <td>507.20</td>\n",
       "      <td>2022-09-02 08:13:25.041972000</td>\n",
       "      <td>505.90</td>\n",
       "      <td>507.400</td>\n",
       "      <td>507.100</td>\n",
       "      <td>0.292683</td>\n",
       "    </tr>\n",
       "    <tr>\n",
       "      <th>1565090</th>\n",
       "      <td>BE0003851681</td>\n",
       "      <td>EUR</td>\n",
       "      <td>XBRU</td>\n",
       "      <td>2022-09-02 11:00:58.132</td>\n",
       "      <td>92.85</td>\n",
       "      <td>162</td>\n",
       "      <td>CONTINUOUS_TRADING</td>\n",
       "      <td>15</td>\n",
       "      <td>1</td>\n",
       "      <td>AED</td>\n",
       "      <td>...</td>\n",
       "      <td>93.80</td>\n",
       "      <td>93.85</td>\n",
       "      <td>2022-09-02 14:08:15.382577182</td>\n",
       "      <td>92.95</td>\n",
       "      <td>93.10</td>\n",
       "      <td>2022-09-02 10:19:50.912507140</td>\n",
       "      <td>93.20</td>\n",
       "      <td>93.825</td>\n",
       "      <td>93.025</td>\n",
       "      <td>0.597222</td>\n",
       "    </tr>\n",
       "    <tr>\n",
       "      <th>510776</th>\n",
       "      <td>BE0003851681</td>\n",
       "      <td>EUR</td>\n",
       "      <td>XBRU</td>\n",
       "      <td>2022-09-02 08:55:36.519</td>\n",
       "      <td>92.45</td>\n",
       "      <td>120</td>\n",
       "      <td>CONTINUOUS_TRADING</td>\n",
       "      <td>19</td>\n",
       "      <td>1</td>\n",
       "      <td>AED</td>\n",
       "      <td>...</td>\n",
       "      <td>93.35</td>\n",
       "      <td>93.40</td>\n",
       "      <td>2022-09-02 12:37:02.817086706</td>\n",
       "      <td>93.35</td>\n",
       "      <td>93.40</td>\n",
       "      <td>2022-09-02 12:37:02.624109896</td>\n",
       "      <td>93.20</td>\n",
       "      <td>93.375</td>\n",
       "      <td>93.375</td>\n",
       "      <td>0.708333</td>\n",
       "    </tr>\n",
       "  </tbody>\n",
       "</table>\n",
       "<p>10 rows × 24 columns</p>\n",
       "</div>"
      ],
      "text/plain": [
       "                 ISIN Currency Venue               TradeTime   Price  \\\n",
       "2259838  BE0003851681      EUR  XBRU 2022-09-02 12:51:31.488   93.20   \n",
       "2949082  BE0003851681      EUR  XBRU 2022-09-02 13:57:00.103   94.10   \n",
       "801402   BE0003851681      EUR  XBRU 2022-09-02 09:56:02.300   92.50   \n",
       "3945834  BE0003851681      EUR  XBRU 2022-09-02 15:27:55.073   94.25   \n",
       "1995692  BE0003851681      EUR  XBRU 2022-09-02 12:37:02.817   93.35   \n",
       "4666308  BE0003593044      EUR  XBRU 2022-09-02 14:06:00.560  100.60   \n",
       "709972   BE0003851681      EUR  XBRU 2022-09-02 09:49:54.106   92.45   \n",
       "4338410  CH0008742519      CHF  XSWX 2022-09-02 07:59:53.219  507.60   \n",
       "1565090  BE0003851681      EUR  XBRU 2022-09-02 11:00:58.132   92.85   \n",
       "510776   BE0003851681      EUR  XBRU 2022-09-02 08:55:36.519   92.45   \n",
       "\n",
       "         Trade_id               Phase  Quantity  side primary_ticker  ...  \\\n",
       "2259838       190  CONTINUOUS_TRADING        23     1            AED  ...   \n",
       "2949082       218  CONTINUOUS_TRADING        20     1            AED  ...   \n",
       "801402        132  CONTINUOUS_TRADING        11     1            AED  ...   \n",
       "3945834       258  CONTINUOUS_TRADING         1     1            AED  ...   \n",
       "1995692       180  CONTINUOUS_TRADING         1     1            AED  ...   \n",
       "4666308      1227  CONTINUOUS_TRADING        11     1           COFB  ...   \n",
       "709972        128  CONTINUOUS_TRADING        46     1            AED  ...   \n",
       "4338410      1009  CONTINUOUS_TRADING        11     1           SCMN  ...   \n",
       "1565090       162  CONTINUOUS_TRADING        15     1            AED  ...   \n",
       "510776        120  CONTINUOUS_TRADING        19     1            AED  ...   \n",
       "\n",
       "        best_bid_1s  best_ask_1s            event_timestamp_1s  \\\n",
       "2259838       93.85        93.95 2022-09-02 13:35:44.275728311   \n",
       "2949082       92.85        93.00 2022-09-02 10:42:08.769535773   \n",
       "801402        92.10        92.20 2022-09-02 09:04:56.140493012   \n",
       "3945834       92.75        92.90 2022-09-02 10:38:55.342426582   \n",
       "1995692       92.15        92.25 2022-09-02 08:13:22.049845232   \n",
       "4666308       99.05        99.15 2022-09-02 07:54:09.150457159   \n",
       "709972        93.40        93.50 2022-09-02 12:35:48.192033959   \n",
       "4338410      507.20       507.60 2022-09-02 07:40:21.346042000   \n",
       "1565090       93.80        93.85 2022-09-02 14:08:15.382577182   \n",
       "510776        93.35        93.40 2022-09-02 12:37:02.817086706   \n",
       "\n",
       "         best_bid_min_1s  best_ask_min_1s        event_timestamp_min_1s  \\\n",
       "2259838            93.45            93.55 2022-09-02 12:39:53.966468327   \n",
       "2949082            92.55            92.65 2022-09-02 10:02:57.271840963   \n",
       "801402             93.30            93.40 2022-09-02 13:09:53.976050735   \n",
       "3945834            94.15            94.25 2022-09-02 15:27:55.038490941   \n",
       "1995692            94.45            94.50 2022-09-02 14:43:00.671444127   \n",
       "4666308           100.70           100.80 2022-09-02 14:08:22.012049947   \n",
       "709972             92.20            92.30 2022-09-02 08:32:47.198346917   \n",
       "4338410           507.00           507.20 2022-09-02 08:13:25.041972000   \n",
       "1565090            92.95            93.10 2022-09-02 10:19:50.912507140   \n",
       "510776             93.35            93.40 2022-09-02 12:37:02.624109896   \n",
       "\n",
       "        mid_price  mid_price_1s  mid_price_min_1s  slippage  \n",
       "2259838     93.20        93.900            93.500  0.500000  \n",
       "2949082     93.20        92.925            92.600  0.250000  \n",
       "801402      93.20        92.150            93.350  0.694444  \n",
       "3945834     93.20        92.825            94.200  0.208333  \n",
       "1995692     93.20        92.200            94.475  0.458333  \n",
       "4666308    100.35        99.100           100.750  0.441860  \n",
       "709972      93.20        93.450            92.250  0.708333  \n",
       "4338410    505.90       507.400           507.100  0.292683  \n",
       "1565090     93.20        93.825            93.025  0.597222  \n",
       "510776      93.20        93.375            93.375  0.708333  \n",
       "\n",
       "[10 rows x 24 columns]"
      ]
     },
     "execution_count": 29,
     "metadata": {},
     "output_type": "execute_result"
    }
   ],
   "source": [
    "final_df=updated_executios_min_1s\n",
    "final_df.sample(n=10, random_state=25)"
   ]
  },
  {
   "cell_type": "code",
   "execution_count": null,
   "metadata": {},
   "outputs": [],
   "source": []
  }
 ],
 "metadata": {
  "kernelspec": {
   "display_name": "berenberg_test",
   "language": "python",
   "name": "berenberg_test"
  },
  "language_info": {
   "codemirror_mode": {
    "name": "ipython",
    "version": 3
   },
   "file_extension": ".py",
   "mimetype": "text/x-python",
   "name": "python",
   "nbconvert_exporter": "python",
   "pygments_lexer": "ipython3",
   "version": "3.12.3"
  }
 },
 "nbformat": 4,
 "nbformat_minor": 4
}
